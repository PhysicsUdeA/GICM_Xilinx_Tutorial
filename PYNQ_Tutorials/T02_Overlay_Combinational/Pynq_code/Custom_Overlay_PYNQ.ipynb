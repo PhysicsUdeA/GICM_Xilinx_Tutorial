{
 "cells": [
  {
   "cell_type": "code",
   "execution_count": 1,
   "id": "a318ee5b",
   "metadata": {},
   "outputs": [
    {
     "data": {
      "application/javascript": [
       "\n",
       "try {\n",
       "require(['notebook/js/codecell'], function(codecell) {\n",
       "  codecell.CodeCell.options_default.highlight_modes[\n",
       "      'magic_text/x-csrc'] = {'reg':[/^%%microblaze/]};\n",
       "  Jupyter.notebook.events.one('kernel_ready.Kernel', function(){\n",
       "      Jupyter.notebook.get_cells().map(function(cell){\n",
       "          if (cell.cell_type == 'code'){ cell.auto_highlight(); } }) ;\n",
       "  });\n",
       "});\n",
       "} catch (e) {};\n"
      ]
     },
     "metadata": {},
     "output_type": "display_data"
    },
    {
     "data": {
      "application/javascript": [
       "\n",
       "try {\n",
       "require(['notebook/js/codecell'], function(codecell) {\n",
       "  codecell.CodeCell.options_default.highlight_modes[\n",
       "      'magic_text/x-csrc'] = {'reg':[/^%%pybind11/]};\n",
       "  Jupyter.notebook.events.one('kernel_ready.Kernel', function(){\n",
       "      Jupyter.notebook.get_cells().map(function(cell){\n",
       "          if (cell.cell_type == 'code'){ cell.auto_highlight(); } }) ;\n",
       "  });\n",
       "});\n",
       "} catch (e) {};\n"
      ]
     },
     "metadata": {},
     "output_type": "display_data"
    }
   ],
   "source": [
    "from pynq import Overlay\n",
    "overlay = Overlay('./Vivado/Leds_bitstream.bit')"
   ]
  },
  {
   "cell_type": "code",
   "execution_count": 2,
   "id": "0a7dbb2e",
   "metadata": {},
   "outputs": [],
   "source": [
    "overlay?"
   ]
  },
  {
   "cell_type": "code",
   "execution_count": 3,
   "id": "81cfb734",
   "metadata": {},
   "outputs": [],
   "source": [
    "from pynq import DefaultIP\n",
    "\n",
    "class buttonRead(DefaultIP):\n",
    "    def __init__(self, description):\n",
    "        super().__init__(description = description)\n",
    "        \n",
    "    bindto = ['Fabian:hls:ledsPrj:1.0'] #it is related to the IP core\n",
    "    \n",
    "    def readSw(self):\n",
    "        return self.read(0x18)\n",
    "    \n",
    "    def writeLed(self, led):\n",
    "        self.write(0x10, led)"
   ]
  },
  {
   "cell_type": "code",
   "execution_count": 4,
   "id": "6a5459f6",
   "metadata": {},
   "outputs": [],
   "source": [
    "from pynq import Overlay\n",
    "overlay = Overlay('./Vivado/Leds_bitstream.bit')"
   ]
  },
  {
   "cell_type": "code",
   "execution_count": 5,
   "id": "280aaab8",
   "metadata": {},
   "outputs": [
    {
     "data": {
      "text/plain": [
       "1"
      ]
     },
     "execution_count": 5,
     "metadata": {},
     "output_type": "execute_result"
    }
   ],
   "source": [
    "overlay.ledsPrj_0.readSw()"
   ]
  },
  {
   "cell_type": "code",
   "execution_count": 6,
   "id": "bd86014a",
   "metadata": {},
   "outputs": [],
   "source": [
    "# overlay.ledsPrj_0.writeLed(1)"
   ]
  },
  {
   "cell_type": "code",
   "execution_count": null,
   "id": "6e6164ab",
   "metadata": {},
   "outputs": [],
   "source": []
  }
 ],
 "metadata": {
  "kernelspec": {
   "display_name": "Python 3",
   "language": "python",
   "name": "python3"
  },
  "language_info": {
   "codemirror_mode": {
    "name": "ipython",
    "version": 3
   },
   "file_extension": ".py",
   "mimetype": "text/x-python",
   "name": "python",
   "nbconvert_exporter": "python",
   "pygments_lexer": "ipython3",
   "version": "3.8.2"
  }
 },
 "nbformat": 4,
 "nbformat_minor": 5
}
